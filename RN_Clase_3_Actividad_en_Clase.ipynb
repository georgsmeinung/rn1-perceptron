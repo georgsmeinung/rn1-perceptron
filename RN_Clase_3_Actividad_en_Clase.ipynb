{
  "nbformat": 4,
  "nbformat_minor": 0,
  "metadata": {
    "colab": {
      "provenance": [],
      "authorship_tag": "ABX9TyMQ/yTd3MqQftpz4qSIQubY",
      "include_colab_link": true
    },
    "kernelspec": {
      "name": "python3",
      "display_name": "Python 3"
    },
    "language_info": {
      "name": "python"
    }
  },
  "cells": [
    {
      "cell_type": "markdown",
      "metadata": {
        "id": "view-in-github",
        "colab_type": "text"
      },
      "source": [
        "<a href=\"https://colab.research.google.com/github/georgsmeinung/rn1-perceptron/blob/main/RN_Clase_3_Actividad_en_Clase.ipynb\" target=\"_parent\"><img src=\"https://colab.research.google.com/assets/colab-badge.svg\" alt=\"Open In Colab\"/></a>"
      ]
    },
    {
      "cell_type": "code",
      "execution_count": 1,
      "metadata": {
        "id": "9b482bb5",
        "colab": {
          "base_uri": "https://localhost:8080/"
        },
        "outputId": "a0303091-d8ae-474a-9997-2983f214c43d"
      },
      "outputs": [
        {
          "output_type": "stream",
          "name": "stdout",
          "text": [
            "Mounted at /content/drive/\n"
          ]
        }
      ],
      "source": [
        "ColabNotebook = 'google.colab' in str(get_ipython())\n",
        "\n",
        "if ColabNotebook:\n",
        "    # monta G-drive en entorno COLAB\n",
        "    from google.colab import drive\n",
        "    drive.mount('/content/drive/')\n",
        "\n",
        "    # carpeta donde se encuentran archivos .py auxiliares\n",
        "    FUENTES_DIR = '/content/drive/MyDrive/Colab Notebooks/FUENTES/'\n",
        "    DATOS_DIR = '/content/drive/MyDrive/Colab Notebooks/DATOS/'      # carpeta donde se encuentran los datasets\n",
        "else:\n",
        "    # configuración para notebook con instalación LOCAL\n",
        "    FUENTES_DIR = '../Fuentes'         # carpeta donde se encuentran archivos .py auxiliares\n",
        "    DATOS_DIR   = '../Datos/' # carpeta donde se encuentran los datasets\n",
        "\n",
        "# agrega ruta de busqueda donde tenemos archivos .py\n",
        "import sys\n",
        "sys.path.append(FUENTES_DIR)"
      ]
    },
    {
      "cell_type": "code",
      "source": [
        "import pandas as pd\n",
        "import numpy as np\n",
        "from sklearn.model_selection import train_test_split\n",
        "from sklearn.preprocessing import StandardScaler\n",
        "from tensorflow.keras.models import Sequential\n",
        "from tensorflow.keras.layers import Dense\n",
        "from tensorflow.keras.optimizers import SGD\n",
        "\n",
        "def prepare_data(df):\n",
        "    \"\"\"Prepara los datos para el entrenamiento.\"\"\"\n",
        "    # Convertir la columna 'Clase' a binaria: Tipo2=1, otros=0\n",
        "    df['Target'] = df['Clase'].apply(lambda x: 1 if x == 'Tipo2' else 0)\n",
        "\n",
        "    # Separar características (X) y objetivo (y)\n",
        "    features = ['Area', 'Perimetro', 'Compacidad', 'LongNucleo', 'AnchoNucleo', 'Asimetria', 'LongSurco']\n",
        "    X = df[features]\n",
        "    y = df['Target']\n",
        "\n",
        "    # Escalar las características (importante para el descenso de gradiente)\n",
        "    scaler = StandardScaler()\n",
        "    X_scaled = scaler.fit_transform(X)\n",
        "\n",
        "    return X_scaled, y.values, features, scaler\n",
        "\n",
        "def build_model(input_dim):\n",
        "    \"\"\"\n",
        "    Construye el modelo de una sola neurona (perceptrón)\n",
        "    con activación sigmoide.\n",
        "    \"\"\"\n",
        "    model = Sequential()\n",
        "\n",
        "    # Se añade la única capa densa (una neurona)\n",
        "    # units=1: Una sola neurona en la capa.\n",
        "    # input_dim=input_dim: Número de características de entrada (7).\n",
        "    # activation='sigmoid': Función de activación sigmoide (0 a 1).\n",
        "    model.add(Dense(units=1,\n",
        "                    input_dim=input_dim,\n",
        "                    activation='sigmoid'))\n",
        "\n",
        "    # Compilar el modelo\n",
        "    # optimizer='sgd': Descenso de Gradiente Estocástico.\n",
        "    # loss='mean_squared_error': Error Cuadrático Medio (ECM).\n",
        "    optimizer = SGD()\n",
        "    model.compile(optimizer=optimizer,\n",
        "                  loss='mean_squared_error',\n",
        "                  metrics=['accuracy'])\n",
        "    return model\n",
        "\n",
        "def train_and_evaluate(model, X, y):\n",
        "    \"\"\"Entrena y evalúa el modelo.\"\"\"\n",
        "    # Dividir en entrenamiento y prueba\n",
        "    X_train, X_test, y_train, y_test = train_test_split(X, y, test_size=0.2, random_state=42, stratify=y)\n",
        "\n",
        "    print(\"Iniciando entrenamiento...\")\n",
        "    # Se entrena el modelo\n",
        "    history = model.fit(X_train, y_train,\n",
        "                        epochs=100,       # Número de pasadas sobre los datos\n",
        "                        batch_size=8,     # Tamaño del lote para SGD\n",
        "                        validation_data=(X_test, y_test),\n",
        "                        verbose=0)        # No mostrar el progreso de cada época\n",
        "\n",
        "    print(\"Entrenamiento completado.\")\n",
        "\n",
        "    # Evaluar el modelo con los datos de prueba\n",
        "    loss, accuracy = model.evaluate(X_test, y_test, verbose=0)\n",
        "    print(f\"\\nEvaluación en datos de prueba:\")\n",
        "    print(f\"  Error Cuadrático Medio (ECM): {loss:.4f}\")\n",
        "    print(f\"  Precisión (Accuracy): {accuracy * 100:.2f}%\")\n",
        "\n",
        "    # Obtener y mostrar los pesos finales\n",
        "    weights = model.get_weights()\n",
        "    kernel_weights = weights[0] # Pesos W1 a W7\n",
        "    bias_weight = weights[1]    # Peso W0 (sesgo)\n",
        "\n",
        "    return kernel_weights, bias_weight"
      ],
      "metadata": {
        "id": "-44Za6I19u3u"
      },
      "execution_count": 2,
      "outputs": []
    },
    {
      "cell_type": "code",
      "source": [
        "# --- Ejecución Principal ---\n",
        "try:\n",
        "    # 1. Cargar datos\n",
        "    df_semillas = pd.read_csv( DATOS_DIR+'semillas.csv')\n",
        "\n",
        "    # 2. Preparar datos\n",
        "    X_scaled, y, feature_names, _ = prepare_data(df_semillas)\n",
        "\n",
        "    # 3. Construir modelo\n",
        "    # Se pasa la cantidad de características de entrada (7)\n",
        "    model = build_model(input_dim=X_scaled.shape[1])\n",
        "    print(\"Modelo construido:\")\n",
        "    model.summary()\n",
        "\n",
        "    # 4. Entrenar y obtener pesos\n",
        "    kernel_weights, bias_weight = train_and_evaluate(model, X_scaled, y)\n",
        "\n",
        "    # 5. Mostrar pesos finales\n",
        "    print(\"\\nPesos obtenidos tras el entrenamiento:\")\n",
        "    print(\"=\" * 35)\n",
        "    print(f\"Pesos de características (W1 a W7):\")\n",
        "    for feature, weight in zip(feature_names, kernel_weights.flatten()):\n",
        "        print(f\"  - {feature}: {weight:.6f}\")\n",
        "\n",
        "    print(f\"\\nPeso del sesgo (W0 o bias):\")\n",
        "    print(f\"  - Bias: {bias_weight[0]:.6f}\")\n",
        "\n",
        "except FileNotFoundError:\n",
        "    print(\"Error: No se encontró el archivo 'semillas.csv'.\")\n",
        "except Exception as e:\n",
        "    print(f\"Ocurrió un error inesperado: {e}\")"
      ],
      "metadata": {
        "colab": {
          "base_uri": "https://localhost:8080/",
          "height": 585
        },
        "id": "X7HOiDXq-pZY",
        "outputId": "59affea8-57d4-4e5b-9d37-f0049c697367"
      },
      "execution_count": 3,
      "outputs": [
        {
          "output_type": "stream",
          "name": "stdout",
          "text": [
            "Modelo construido:\n"
          ]
        },
        {
          "output_type": "stream",
          "name": "stderr",
          "text": [
            "/usr/local/lib/python3.12/dist-packages/keras/src/layers/core/dense.py:93: UserWarning: Do not pass an `input_shape`/`input_dim` argument to a layer. When using Sequential models, prefer using an `Input(shape)` object as the first layer in the model instead.\n",
            "  super().__init__(activity_regularizer=activity_regularizer, **kwargs)\n"
          ]
        },
        {
          "output_type": "display_data",
          "data": {
            "text/plain": [
              "\u001b[1mModel: \"sequential\"\u001b[0m\n"
            ],
            "text/html": [
              "<pre style=\"white-space:pre;overflow-x:auto;line-height:normal;font-family:Menlo,'DejaVu Sans Mono',consolas,'Courier New',monospace\"><span style=\"font-weight: bold\">Model: \"sequential\"</span>\n",
              "</pre>\n"
            ]
          },
          "metadata": {}
        },
        {
          "output_type": "display_data",
          "data": {
            "text/plain": [
              "┏━━━━━━━━━━━━━━━━━━━━━━━━━━━━━━━━━┳━━━━━━━━━━━━━━━━━━━━━━━━┳━━━━━━━━━━━━━━━┓\n",
              "┃\u001b[1m \u001b[0m\u001b[1mLayer (type)                   \u001b[0m\u001b[1m \u001b[0m┃\u001b[1m \u001b[0m\u001b[1mOutput Shape          \u001b[0m\u001b[1m \u001b[0m┃\u001b[1m \u001b[0m\u001b[1m      Param #\u001b[0m\u001b[1m \u001b[0m┃\n",
              "┡━━━━━━━━━━━━━━━━━━━━━━━━━━━━━━━━━╇━━━━━━━━━━━━━━━━━━━━━━━━╇━━━━━━━━━━━━━━━┩\n",
              "│ dense (\u001b[38;5;33mDense\u001b[0m)                   │ (\u001b[38;5;45mNone\u001b[0m, \u001b[38;5;34m1\u001b[0m)              │             \u001b[38;5;34m8\u001b[0m │\n",
              "└─────────────────────────────────┴────────────────────────┴───────────────┘\n"
            ],
            "text/html": [
              "<pre style=\"white-space:pre;overflow-x:auto;line-height:normal;font-family:Menlo,'DejaVu Sans Mono',consolas,'Courier New',monospace\">┏━━━━━━━━━━━━━━━━━━━━━━━━━━━━━━━━━┳━━━━━━━━━━━━━━━━━━━━━━━━┳━━━━━━━━━━━━━━━┓\n",
              "┃<span style=\"font-weight: bold\"> Layer (type)                    </span>┃<span style=\"font-weight: bold\"> Output Shape           </span>┃<span style=\"font-weight: bold\">       Param # </span>┃\n",
              "┡━━━━━━━━━━━━━━━━━━━━━━━━━━━━━━━━━╇━━━━━━━━━━━━━━━━━━━━━━━━╇━━━━━━━━━━━━━━━┩\n",
              "│ dense (<span style=\"color: #0087ff; text-decoration-color: #0087ff\">Dense</span>)                   │ (<span style=\"color: #00d7ff; text-decoration-color: #00d7ff\">None</span>, <span style=\"color: #00af00; text-decoration-color: #00af00\">1</span>)              │             <span style=\"color: #00af00; text-decoration-color: #00af00\">8</span> │\n",
              "└─────────────────────────────────┴────────────────────────┴───────────────┘\n",
              "</pre>\n"
            ]
          },
          "metadata": {}
        },
        {
          "output_type": "display_data",
          "data": {
            "text/plain": [
              "\u001b[1m Total params: \u001b[0m\u001b[38;5;34m8\u001b[0m (32.00 B)\n"
            ],
            "text/html": [
              "<pre style=\"white-space:pre;overflow-x:auto;line-height:normal;font-family:Menlo,'DejaVu Sans Mono',consolas,'Courier New',monospace\"><span style=\"font-weight: bold\"> Total params: </span><span style=\"color: #00af00; text-decoration-color: #00af00\">8</span> (32.00 B)\n",
              "</pre>\n"
            ]
          },
          "metadata": {}
        },
        {
          "output_type": "display_data",
          "data": {
            "text/plain": [
              "\u001b[1m Trainable params: \u001b[0m\u001b[38;5;34m8\u001b[0m (32.00 B)\n"
            ],
            "text/html": [
              "<pre style=\"white-space:pre;overflow-x:auto;line-height:normal;font-family:Menlo,'DejaVu Sans Mono',consolas,'Courier New',monospace\"><span style=\"font-weight: bold\"> Trainable params: </span><span style=\"color: #00af00; text-decoration-color: #00af00\">8</span> (32.00 B)\n",
              "</pre>\n"
            ]
          },
          "metadata": {}
        },
        {
          "output_type": "display_data",
          "data": {
            "text/plain": [
              "\u001b[1m Non-trainable params: \u001b[0m\u001b[38;5;34m0\u001b[0m (0.00 B)\n"
            ],
            "text/html": [
              "<pre style=\"white-space:pre;overflow-x:auto;line-height:normal;font-family:Menlo,'DejaVu Sans Mono',consolas,'Courier New',monospace\"><span style=\"font-weight: bold\"> Non-trainable params: </span><span style=\"color: #00af00; text-decoration-color: #00af00\">0</span> (0.00 B)\n",
              "</pre>\n"
            ]
          },
          "metadata": {}
        },
        {
          "output_type": "stream",
          "name": "stdout",
          "text": [
            "Iniciando entrenamiento...\n",
            "Entrenamiento completado.\n",
            "\n",
            "Evaluación en datos de prueba:\n",
            "  Error Cuadrático Medio (ECM): 0.0253\n",
            "  Precisión (Accuracy): 97.62%\n",
            "\n",
            "Pesos obtenidos tras el entrenamiento:\n",
            "===================================\n",
            "Pesos de características (W1 a W7):\n",
            "  - Area: 1.116188\n",
            "  - Perimetro: -0.185349\n",
            "  - Compacidad: 0.132139\n",
            "  - LongNucleo: 0.056312\n",
            "  - AnchoNucleo: 0.361469\n",
            "  - Asimetria: 0.288671\n",
            "  - LongSurco: 1.219899\n",
            "\n",
            "Peso del sesgo (W0 o bias):\n",
            "  - Bias: -0.695373\n"
          ]
        }
      ]
    },
    {
      "cell_type": "code",
      "metadata": {
        "colab": {
          "base_uri": "https://localhost:8080/"
        },
        "id": "a518163f",
        "outputId": "01768a26-62e6-4829-df00-a57a56766b06"
      },
      "source": [
        "# Create a DataFrame for the new data point\n",
        "new_data = {\n",
        "    'Area': [15.03],\n",
        "    'Perimetro': [14.77],\n",
        "    'Compacidad': [0.8658],\n",
        "    'LongNucleo': [5.702],\n",
        "    'AnchoNucleo': [3.212],\n",
        "    'Asimetria': [1.933],\n",
        "    'LongSurco': [5.439]\n",
        "}\n",
        "new_df = pd.DataFrame(new_data)\n",
        "\n",
        "# Scale the new data using the same scaler used for training\n",
        "# We need to retrieve the scaler from the prepare_data function or re-fit it on the original data\n",
        "# For simplicity here, let's assume we have access to the scaler object.\n",
        "# If not, we would need to modify prepare_data to return the scaler.\n",
        "# Assuming the scaler is returned by prepare_data:\n",
        "# X_scaled, y, feature_names, scaler = prepare_data(df_semillas)\n",
        "# And then use:\n",
        "# new_data_scaled = scaler.transform(new_df)\n",
        "\n",
        "# Since the scaler was not returned, let's re-fit it on the original data for demonstration\n",
        "# In a real scenario, you should save and load the scaler.\n",
        "_, _, _, scaler = prepare_data(df_semillas) # Re-fit scaler on original data to get the scaler object\n",
        "new_data_scaled = scaler.transform(new_df)\n",
        "\n",
        "\n",
        "# Predict the class of the new data point\n",
        "prediction = model.predict(new_data_scaled)\n",
        "\n",
        "# The output of the sigmoid is a probability (between 0 and 1).\n",
        "# We can interpret values close to 1 as belonging to class 1 (Tipo2)\n",
        "# and values close to 0 as belonging to class 0 (not Tipo2).\n",
        "# A common threshold is 0.5.\n",
        "predicted_class = 1 if prediction[0][0] > 0.5 else 0\n",
        "\n",
        "print(f\"The predicted probability for class Tipo2 is: {prediction[0][0]:.4f}\")\n",
        "print(f\"Based on a threshold of 0.5, the predicted class is: {predicted_class}\")\n",
        "\n",
        "# Map the predicted class back to the original class names if needed\n",
        "# class_names = {0: 'Not Tipo2', 1: 'Tipo2'}\n",
        "# predicted_class_name = class_names[predicted_class]\n",
        "# print(f\"The predicted class name is: {predicted_class_name}\")"
      ],
      "execution_count": 4,
      "outputs": [
        {
          "output_type": "stream",
          "name": "stdout",
          "text": [
            "\u001b[1m1/1\u001b[0m \u001b[32m━━━━━━━━━━━━━━━━━━━━\u001b[0m\u001b[37m\u001b[0m \u001b[1m0s\u001b[0m 41ms/step\n",
            "The predicted probability for class Tipo2 is: 0.2723\n",
            "Based on a threshold of 0.5, the predicted class is: 0\n"
          ]
        }
      ]
    }
  ]
}