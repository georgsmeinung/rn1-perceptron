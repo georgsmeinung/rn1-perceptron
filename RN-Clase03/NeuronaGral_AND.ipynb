{
 "cells": [
  {
   "cell_type": "code",
   "execution_count": 1,
   "id": "9b482bb5",
   "metadata": {},
   "outputs": [],
   "source": [
    "ColabNotebook = 'google.colab' in str(get_ipython())\n",
    "\n",
    "if ColabNotebook:\n",
    "    # monta G-drive en entorno COLAB\n",
    "    from google.colab import drive\n",
    "    drive.mount('/content/drive/')\n",
    "\n",
    "    # carpeta donde se encuentran archivos .py auxiliares\n",
    "    FUENTES_DIR = '/content/drive/MyDrive/Colab Notebooks/FUENTES/'\n",
    "    DATOS_DIR = '/content/drive/MyDrive/Colab Notebooks/DATOS/'      # carpeta donde se encuentran los datasets\n",
    "else:\n",
    "    # configuración para notebook con instalación LOCAL\n",
    "    FUENTES_DIR = '../Fuentes'         # carpeta donde se encuentran archivos .py auxiliares\n",
    "    DATOS_DIR   = '../Datos/' # carpeta donde se encuentran los datasets\n",
    "\n",
    "# agrega ruta de busqueda donde tenemos archivos .py\n",
    "import sys\n",
    "sys.path.append(FUENTES_DIR)   "
   ]
  },
  {
   "cell_type": "code",
   "execution_count": 2,
   "id": "f3fbf3c3",
   "metadata": {},
   "outputs": [],
   "source": [
    "%matplotlib inline\n",
    "import numpy as np\n",
    "from matplotlib import pylab as plt\n",
    "from IPython import display\n",
    "\n",
    "import grafica as gr\n",
    "\n",
    "# Ajustar el tamaño predeterminado de las figuras\n",
    "plt.rcParams['figure.figsize'] = [4,3]"
   ]
  },
  {
   "cell_type": "markdown",
   "id": "3cdd14f3",
   "metadata": {},
   "source": [
    "### Ejemplos de la función AND"
   ]
  },
  {
   "cell_type": "code",
   "execution_count": 4,
   "id": "b6b4b05f",
   "metadata": {},
   "outputs": [],
   "source": [
    "# Ejemplos de entrada de la función AND\n",
    "X = np.array([[0,0], [0,1],[1,0],[1,1]])\n",
    "\n",
    "#-- Respuesta esperada para cada ejemplo\n",
    "T = np.array([0,0,0,1])\n",
    "T=2*T-1"
   ]
  },
  {
   "cell_type": "code",
   "execution_count": 5,
   "id": "aa2848d7",
   "metadata": {},
   "outputs": [],
   "source": [
    "#X=2*X-1"
   ]
  },
  {
   "cell_type": "markdown",
   "id": "a19c85ba",
   "metadata": {},
   "source": [
    "### Prueba de dibujo"
   ]
  },
  {
   "cell_type": "code",
   "execution_count": 7,
   "id": "5414ca49",
   "metadata": {},
   "outputs": [
    {
     "data": {
      "image/png": "[encoded data removed]",
      "text/plain": [
       "<Figure size 400x300 with 1 Axes>"
      ]
     },
     "metadata": {},
     "output_type": "display_data"
    }
   ],
   "source": [
    "# -- PESOS INICIALES - Determinan la ubicación de la recta\n",
    "W = np.array([-1.0, 1.0])\n",
    "b = 0.2\n",
    "\n",
    "res= gr.dibuPtosRecta(X,T, W, b, ['X1','X2'])"
   ]
  },
  {
   "cell_type": "markdown",
   "id": "f80f95d3",
   "metadata": {},
   "source": [
    "### Hiperparámetros del perceptrón"
   ]
  },
  {
   "cell_type": "code",
   "execution_count": 9,
   "id": "4db11542",
   "metadata": {},
   "outputs": [],
   "source": [
    "MAX_ITE = 100\n",
    "alfa = 0.1"
   ]
  },
  {
   "cell_type": "markdown",
   "id": "46cedb15",
   "metadata": {},
   "source": [
    "### Entrenamiento de la neurona sigmoide"
   ]
  },
  {
   "cell_type": "code",
   "execution_count": 11,
   "id": "bb5705aa",
   "metadata": {},
   "outputs": [
    {
     "data": {
      "image/png": "[encoded data removed]",
      "text/plain": [
       "<Figure size 400x300 with 1 Axes>"
      ]
     },
     "metadata": {},
     "output_type": "display_data"
    }
   ],
   "source": [
    "plt.clf()\n",
    "nIn = X.shape[1]  # cantidad de pesos de entrada sin contar el sesgo\n",
    "\n",
    "#--- Los pesos iniciales son aleatorios\n",
    "W = np.array(np.random.uniform(-0.5, 0.5, size=nIn))\n",
    "b = np.random.uniform(-0.5, 0.5)\n",
    "\n",
    "#--- al finalizar ERRORES debe contener la cantidad de cambios realizados en c/iteración ---\n",
    "errores = []\n",
    "\n",
    "# --- titulos y ph se utilizan sólo para dibujar ---\n",
    "titulos = ['X1', 'X2']\n",
    "ph=0  # es el manejador de la recta en el dibujo\n",
    "\n",
    "\n",
    "#-- Ingresar los ejemplos de a uno hasta que la diferencia de  \n",
    "#   2 errores consecutivos sea inferior a cierta COTA\n",
    "\n",
    "ite = 0\n",
    "COTA = 10e-03\n",
    "\n",
    "ErrorAct = 1\n",
    "ErrorAnt = 2\n",
    "while (ite < MAX_ITE) and (np.abs(ErrorAnt - ErrorAct)>COTA):\n",
    "    ErrorAnt = ErrorAct       \n",
    "    sumaErrores=0\n",
    "    \n",
    "    # ingresar los ejemplos de a uno\n",
    "    for e in range(len(T)):\n",
    "        \n",
    "        neta = W[0]*X[e,0] + W[1]*X[e,1] + b\n",
    "        \n",
    "        #Y = 1 / (1+np.exp(-neta))\n",
    "        Y = 2 / (1+np.exp(-2*neta)) - 1\n",
    "        \n",
    "        errorEj = (T[e] - Y)\n",
    "        \n",
    "        #derivada = Y * ( 1 - Y )\n",
    "        derivada = 1-Y*Y\n",
    "        \n",
    "        W[0] = W[0] + alfa * errorEj * derivada * X[e,0]\n",
    "        W[1] = W[1] + alfa * errorEj * derivada * X[e,1]\n",
    "        b = b + alfa * errorEj * derivada * 1  # x0=1 siempre\n",
    "            \n",
    "        sumaErrores = sumaErrores + errorEj * errorEj\n",
    "        \n",
    "    ErrorAct = sumaErrores / len(T)    \n",
    "    errores.append(ErrorAct)\n",
    "    ite = ite + 1\n",
    "            \n",
    "    ph = gr.dibuPtosRecta(X,T, W, b, ['X1','X2'], ph)        \n"
   ]
  },
  {
   "cell_type": "markdown",
   "id": "0eb9ac2b",
   "metadata": {},
   "source": [
    "### Pesos obtenidos luego del entrenamiento"
   ]
  },
  {
   "cell_type": "code",
   "execution_count": 13,
   "id": "93a5e363",
   "metadata": {},
   "outputs": [
    {
     "name": "stdout",
     "output_type": "stream",
     "text": [
      "W =  [0.98360791 0.90885   ]\n",
      "b =  -1.397996708395018\n"
     ]
    }
   ],
   "source": [
    "print(\"W = \", W)\n",
    "print(\"b = \", b)"
   ]
  },
  {
   "cell_type": "markdown",
   "id": "a7e881d5",
   "metadata": {},
   "source": [
    "### Cantidad de errores por iteración"
   ]
  },
  {
   "cell_type": "code",
   "execution_count": 15,
   "id": "afa0029f",
   "metadata": {},
   "outputs": [
    {
     "data": {
      "text/plain": [
       "<Figure size 400x300 with 0 Axes>"
      ]
     },
     "metadata": {},
     "output_type": "display_data"
    },
    {
     "data": {
      "image/png": "[encoded data removed]",
      "text/plain": [
       "<Figure size 500x300 with 1 Axes>"
      ]
     },
     "metadata": {},
     "output_type": "display_data"
    }
   ],
   "source": [
    "plt.clf()\n",
    "plt.figure(figsize=(5,3))\n",
    "plt.plot(range(1, len(errores) + 1), errores, marker='o')\n",
    "plt.xlabel('Iteraciones')\n",
    "plt.ylabel('ECM')\n",
    "plt.show()"
   ]
  },
  {
   "cell_type": "code",
   "execution_count": 16,
   "id": "f97dfb13",
   "metadata": {},
   "outputs": [
    {
     "name": "stdout",
     "output_type": "stream",
     "text": [
      "[0.33086638987009676, 0.31944959680562435, 0.3087189247174853, 0.298615306670039, 0.2890863984890726]\n"
     ]
    }
   ],
   "source": [
    "print(errores[len(errores)-5:])"
   ]
  },
  {
   "cell_type": "code",
   "execution_count": null,
   "id": "6a175995",
   "metadata": {},
   "outputs": [],
   "source": []
  }
 ],
 "metadata": {
  "kernelspec": {
   "display_name": "Python 3 (ipykernel)",
   "language": "python",
   "name": "python3"
  },
  "language_info": {
   "codemirror_mode": {
    "name": "ipython",
    "version": 3
   },
   "file_extension": ".py",
   "mimetype": "text/x-python",
   "name": "python",
   "nbconvert_exporter": "python",
   "pygments_lexer": "ipython3",
   "version": "3.11.7"
  }
 },
 "nbformat": 4,
 "nbformat_minor": 5
}
