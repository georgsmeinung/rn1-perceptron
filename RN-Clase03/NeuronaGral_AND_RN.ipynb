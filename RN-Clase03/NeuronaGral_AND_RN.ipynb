{
 "cells": [
  {
   "cell_type": "code",
   "execution_count": 1,
   "id": "ff54a362",
   "metadata": {},
   "outputs": [],
   "source": [
    "ColabNotebook = 'google.colab' in str(get_ipython())\n",
    " \n",
    "if ColabNotebook:\n",
    "    # monta G-drive en entorno COLAB\n",
    "    from google.colab import drive\n",
    "    drive.mount('/content/drive/')\n",
    "\n",
    "    # carpeta donde se encuentran archivos .py auxiliares\n",
    "    FUENTES_DIR = '/content/drive/MyDrive/Colab Notebooks/FUENTES/'\n",
    "    DATOS_DIR = '/content/drive/MyDrive/Colab Notebooks/DATOS/'      # carpeta donde se encuentran los datasets\n",
    "else:\n",
    "    # configuración para notebook con instalación LOCAL\n",
    "    FUENTES_DIR = '../Fuentes'         # carpeta donde se encuentran archivos .py auxiliares\n",
    "    DATOS_DIR   = '../Datos/' # carpeta donde se encuentran los datasets\n",
    "\n",
    "# agrega ruta de busqueda donde tenemos archivos .py\n",
    "import sys\n",
    "sys.path.append(FUENTES_DIR)"
   ]
  },
  {
   "cell_type": "code",
   "execution_count": 2,
   "id": "f3fbf3c3",
   "metadata": {},
   "outputs": [],
   "source": [
    "%matplotlib inline\n",
    "import numpy as np\n",
    "import time\n",
    "#from matplotlib import pyplot as plt\n",
    "from matplotlib import pylab as plt\n",
    "from IPython import display\n",
    "# Ajustar el tamaño predeterminado de las figuras\n",
    "plt.rcParams['figure.figsize'] = [4,3] \n",
    "\n",
    "from grafica import *\n",
    "from ClassNeuronaGral import NeuronaGradiente"
   ]
  },
  {
   "cell_type": "code",
   "execution_count": 3,
   "id": "b6b4b05f",
   "metadata": {},
   "outputs": [],
   "source": [
    "# Ejemplos de entrada de la función AND\n",
    "X = np.array([[0,0], [0,1],[1,0],[1,1]])\n",
    "X = 2*X-1\n",
    "T = np.array([0,0,0,1])"
   ]
  },
  {
   "cell_type": "code",
   "execution_count": 4,
   "id": "4626dfc3",
   "metadata": {},
   "outputs": [
    {
     "data": {
      "image/png": "[encoded data removed]",
      "text/plain": [
       "<Figure size 400x300 with 1 Axes>"
      ]
     },
     "metadata": {},
     "output_type": "display_data"
    },
    {
     "data": {
      "text/plain": [
       "<ClassNeuronaGral.NeuronaGradiente at 0x1bb88033450>"
      ]
     },
     "execution_count": 4,
     "metadata": {},
     "output_type": "execute_result"
    }
   ],
   "source": [
    "funcion = 'sigmoid'\n",
    "if (funcion=='tanh'):\n",
    "    T=2*T-1\n",
    "    \n",
    "ppn = NeuronaGradiente(alpha=0.15, n_iter=40, cotaE=1e-05, FUN=funcion, random_state=None, draw=1, title=['x1', 'x2'])\n",
    "ppn.fit(X,T)"
   ]
  },
  {
   "cell_type": "code",
   "execution_count": 5,
   "id": "bf51693f",
   "metadata": {},
   "outputs": [
    {
     "data": {
      "image/png": "[encoded data removed]",
      "text/plain": [
       "<Figure size 400x300 with 1 Axes>"
      ]
     },
     "metadata": {},
     "output_type": "display_data"
    }
   ],
   "source": [
    "plt.clf()\n",
    "plt.plot(range(1, len(ppn.errors_) + 1), ppn.errors_, marker='o')\n",
    "plt.xlabel('Iteraciones')\n",
    "plt.ylabel('ECM')\n",
    "plt.show()"
   ]
  },
  {
   "cell_type": "code",
   "execution_count": 6,
   "id": "ef97d2be",
   "metadata": {},
   "outputs": [
    {
     "name": "stdout",
     "output_type": "stream",
     "text": [
      "Y =  [0 0 0 1]\n",
      "T =  [0 0 0 1]\n",
      "aciertos = 4   (100.00%)\n"
     ]
    }
   ],
   "source": [
    "umbral = 0.5   # corresponde a la función sigmoide entre 0 y 1\n",
    "\n",
    "if (funcion=='tanh'):\n",
    "    umbral = 0  \n",
    "\n",
    "Y = (ppn.predict(X)>umbral)*1\n",
    "print(\"Y = \", Y)\n",
    "print(\"T = \", T)\n",
    "aciertos = sum(Y == T)\n",
    "print(\"aciertos = %d   (%.2f%%)\" % (aciertos, 100*aciertos/X.shape[0]))\n"
   ]
  },
  {
   "cell_type": "code",
   "execution_count": 7,
   "id": "4b4ab009-127f-4017-99c1-cbd0e55e73dc",
   "metadata": {},
   "outputs": [
    {
     "name": "stdout",
     "output_type": "stream",
     "text": [
      "[0 0 0 1]\n"
     ]
    }
   ],
   "source": [
    "Y2 = ppn.predict(X)\n",
    "print(Y2)"
   ]
  },
  {
   "cell_type": "code",
   "execution_count": 8,
   "id": "1bdb477b",
   "metadata": {},
   "outputs": [
    {
     "data": {
      "text/plain": [
       "array([0.08161103, 0.3147757 , 0.32183498, 0.71041881])"
      ]
     },
     "execution_count": 8,
     "metadata": {},
     "output_type": "execute_result"
    }
   ],
   "source": [
    "ppn.predict_nOut(X)"
   ]
  },
  {
   "cell_type": "code",
   "execution_count": 9,
   "id": "f23b6ebf",
   "metadata": {},
   "outputs": [
    {
     "name": "stdout",
     "output_type": "stream",
     "text": [
      "accuracy =  100.0 %\n"
     ]
    }
   ],
   "source": [
    "print( 'accuracy = ' , 100 * ppn.accuracy(X,T), '%')"
   ]
  },
  {
   "cell_type": "code",
   "execution_count": null,
   "id": "0416bb23",
   "metadata": {},
   "outputs": [],
   "source": []
  }
 ],
 "metadata": {
  "kernelspec": {
   "display_name": "Python 3 (ipykernel)",
   "language": "python",
   "name": "python3"
  },
  "language_info": {
   "codemirror_mode": {
    "name": "ipython",
    "version": 3
   },
   "file_extension": ".py",
   "mimetype": "text/x-python",
   "name": "python",
   "nbconvert_exporter": "python",
   "pygments_lexer": "ipython3",
   "version": "3.11.7"
  }
 },
 "nbformat": 4,
 "nbformat_minor": 5
}
