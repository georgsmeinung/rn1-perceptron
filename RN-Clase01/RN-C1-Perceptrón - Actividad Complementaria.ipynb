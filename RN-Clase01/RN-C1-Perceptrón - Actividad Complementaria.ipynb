{
  "nbformat": 4,
  "nbformat_minor": 0,
  "metadata": {
    "colab": {
      "provenance": [],
      "authorship_tag": "ABX9TyO8zSzoUpIDxar2WYOerDdx",
      "include_colab_link": true
    },
    "kernelspec": {
      "name": "python3",
      "display_name": "Python 3"
    },
    "language_info": {
      "name": "python"
    }
  },
  "cells": [
    {
      "cell_type": "markdown",
      "metadata": {
        "id": "view-in-github",
        "colab_type": "text"
      },
      "source": [
        "<a href=\"https://colab.research.google.com/github/georgsmeinung/rn1-perceptron/blob/main/RN-Clase01/RN-C1-Perceptr%C3%B3n%20-%20Actividad%20Complementaria.ipynb\" target=\"_parent\"><img src=\"https://colab.research.google.com/assets/colab-badge.svg\" alt=\"Open In Colab\"/></a>"
      ]
    },
    {
      "cell_type": "markdown",
      "source": [
        "### **Perceptrón - Actividad Complementaria**\n",
        "\n",
        "El archivo **semillas.csv** contiene información de granos que pertenecen a tres variedades diferentes de trigo: Kama, Rosa y Canadiense.\n",
        "\n",
        "A partir de los 210 ejemplos de este archivo, luego de normalizarlos utilizando los valores de media y desvío, se logró entrenar un perceptrón capaz de identificar, con una precisión del 100%, uno de los tres tipos de semillas. Para realizar el entrenamiento se utilizó una velocidad de aprendizaje de 0.05 y un máximo de 200 iteraciones. Indique cuál es el tipo de semilla que puede ser reconocido correctamente por un perceptrón."
      ],
      "metadata": {
        "id": "gaU1mvlB87mC"
      }
    },
    {
      "cell_type": "markdown",
      "metadata": {
        "id": "56263ef2"
      },
      "source": [
        "# Task\n",
        "Train a perceptron model on the \"semillas.csv\" dataset to classify seed types. Normalize the data, use a learning rate of 0.05 and a maximum of 200 iterations. Identify which seed type can be recognized with 100% accuracy."
      ]
    },
    {
      "cell_type": "markdown",
      "metadata": {
        "id": "6fec685a"
      },
      "source": [
        "## Load data\n",
        "\n",
        "### Subtask:\n",
        "Load the `semillas.csv` dataset into a pandas DataFrame.\n"
      ]
    },
    {
      "cell_type": "code",
      "metadata": {
        "colab": {
          "base_uri": "https://localhost:8080/"
        },
        "id": "FcLtFABj-PHx",
        "outputId": "4d4b81d9-0871-4ab3-e83b-c52f95f680cb"
      },
      "source": [
        "import os\n",
        "print(os.listdir('/content/drive/MyDrive/Colab Notebooks/DATOS'))"
      ],
      "execution_count": 2,
      "outputs": [
        {
          "output_type": "stream",
          "name": "stdout",
          "text": [
            "['drugs_train.csv', 'FrutasTest.csv', 'semillas.csv', 'automobile-simple.csv', 'drugs_test.csv', 'FrutasTrain.csv', 'Sonar.csv', 'zoo.csv']\n"
          ]
        }
      ]
    },
    {
      "cell_type": "code",
      "metadata": {
        "colab": {
          "base_uri": "https://localhost:8080/",
          "height": 206
        },
        "id": "3467474b",
        "outputId": "e40bf3ff-6be2-476f-e16a-6388afd693ba"
      },
      "source": [
        "import pandas as pd\n",
        "\n",
        "# Load the dataset\n",
        "df = pd.read_csv('/content/drive/MyDrive/Colab Notebooks/DATOS/semillas.csv')\n",
        "\n",
        "# Display the first few rows of the dataframe\n",
        "display(df.head())"
      ],
      "execution_count": 3,
      "outputs": [
        {
          "output_type": "display_data",
          "data": {
            "text/plain": [
              "    Area  Perimetro  Compacidad  LongNucleo  AnchoNucleo  Asimetria  \\\n",
              "0  15.26      14.84      0.8710       5.763        3.312      2.221   \n",
              "1  14.88      14.57      0.8811       5.554        3.333      1.018   \n",
              "2  14.29      14.09      0.9050       5.291        3.337      2.699   \n",
              "3  13.84      13.94      0.8955       5.324        3.379      2.259   \n",
              "4  16.14      14.99      0.9034       5.658        3.562      1.355   \n",
              "\n",
              "   LongSurco  Clase  \n",
              "0      5.220  Tipo1  \n",
              "1      4.956  Tipo1  \n",
              "2      4.825  Tipo1  \n",
              "3      4.805  Tipo1  \n",
              "4      5.175  Tipo1  "
            ],
            "text/html": [
              "\n",
              "  <div id=\"df-95c226a3-b899-4ef2-b30f-65c994f91038\" class=\"colab-df-container\">\n",
              "    <div>\n",
              "<style scoped>\n",
              "    .dataframe tbody tr th:only-of-type {\n",
              "        vertical-align: middle;\n",
              "    }\n",
              "\n",
              "    .dataframe tbody tr th {\n",
              "        vertical-align: top;\n",
              "    }\n",
              "\n",
              "    .dataframe thead th {\n",
              "        text-align: right;\n",
              "    }\n",
              "</style>\n",
              "<table border=\"1\" class=\"dataframe\">\n",
              "  <thead>\n",
              "    <tr style=\"text-align: right;\">\n",
              "      <th></th>\n",
              "      <th>Area</th>\n",
              "      <th>Perimetro</th>\n",
              "      <th>Compacidad</th>\n",
              "      <th>LongNucleo</th>\n",
              "      <th>AnchoNucleo</th>\n",
              "      <th>Asimetria</th>\n",
              "      <th>LongSurco</th>\n",
              "      <th>Clase</th>\n",
              "    </tr>\n",
              "  </thead>\n",
              "  <tbody>\n",
              "    <tr>\n",
              "      <th>0</th>\n",
              "      <td>15.26</td>\n",
              "      <td>14.84</td>\n",
              "      <td>0.8710</td>\n",
              "      <td>5.763</td>\n",
              "      <td>3.312</td>\n",
              "      <td>2.221</td>\n",
              "      <td>5.220</td>\n",
              "      <td>Tipo1</td>\n",
              "    </tr>\n",
              "    <tr>\n",
              "      <th>1</th>\n",
              "      <td>14.88</td>\n",
              "      <td>14.57</td>\n",
              "      <td>0.8811</td>\n",
              "      <td>5.554</td>\n",
              "      <td>3.333</td>\n",
              "      <td>1.018</td>\n",
              "      <td>4.956</td>\n",
              "      <td>Tipo1</td>\n",
              "    </tr>\n",
              "    <tr>\n",
              "      <th>2</th>\n",
              "      <td>14.29</td>\n",
              "      <td>14.09</td>\n",
              "      <td>0.9050</td>\n",
              "      <td>5.291</td>\n",
              "      <td>3.337</td>\n",
              "      <td>2.699</td>\n",
              "      <td>4.825</td>\n",
              "      <td>Tipo1</td>\n",
              "    </tr>\n",
              "    <tr>\n",
              "      <th>3</th>\n",
              "      <td>13.84</td>\n",
              "      <td>13.94</td>\n",
              "      <td>0.8955</td>\n",
              "      <td>5.324</td>\n",
              "      <td>3.379</td>\n",
              "      <td>2.259</td>\n",
              "      <td>4.805</td>\n",
              "      <td>Tipo1</td>\n",
              "    </tr>\n",
              "    <tr>\n",
              "      <th>4</th>\n",
              "      <td>16.14</td>\n",
              "      <td>14.99</td>\n",
              "      <td>0.9034</td>\n",
              "      <td>5.658</td>\n",
              "      <td>3.562</td>\n",
              "      <td>1.355</td>\n",
              "      <td>5.175</td>\n",
              "      <td>Tipo1</td>\n",
              "    </tr>\n",
              "  </tbody>\n",
              "</table>\n",
              "</div>\n",
              "    <div class=\"colab-df-buttons\">\n",
              "\n",
              "  <div class=\"colab-df-container\">\n",
              "    <button class=\"colab-df-convert\" onclick=\"convertToInteractive('df-95c226a3-b899-4ef2-b30f-65c994f91038')\"\n",
              "            title=\"Convert this dataframe to an interactive table.\"\n",
              "            style=\"display:none;\">\n",
              "\n",
              "  <svg xmlns=\"http://www.w3.org/2000/svg\" height=\"24px\" viewBox=\"0 -960 960 960\">\n",
              "    <path d=\"M120-120v-720h720v720H120Zm60-500h600v-160H180v160Zm220 220h160v-160H400v160Zm0 220h160v-160H400v160ZM180-400h160v-160H180v160Zm440 0h160v-160H620v160ZM180-180h160v-160H180v160Zm440 0h160v-160H620v160Z\"/>\n",
              "  </svg>\n",
              "    </button>\n",
              "\n",
              "  <style>\n",
              "    .colab-df-container {\n",
              "      display:flex;\n",
              "      gap: 12px;\n",
              "    }\n",
              "\n",
              "    .colab-df-convert {\n",
              "      background-color: #E8F0FE;\n",
              "      border: none;\n",
              "      border-radius: 50%;\n",
              "      cursor: pointer;\n",
              "      display: none;\n",
              "      fill: #1967D2;\n",
              "      height: 32px;\n",
              "      padding: 0 0 0 0;\n",
              "      width: 32px;\n",
              "    }\n",
              "\n",
              "    .colab-df-convert:hover {\n",
              "      background-color: #E2EBFA;\n",
              "      box-shadow: 0px 1px 2px rgba(60, 64, 67, 0.3), 0px 1px 3px 1px rgba(60, 64, 67, 0.15);\n",
              "      fill: #174EA6;\n",
              "    }\n",
              "\n",
              "    .colab-df-buttons div {\n",
              "      margin-bottom: 4px;\n",
              "    }\n",
              "\n",
              "    [theme=dark] .colab-df-convert {\n",
              "      background-color: #3B4455;\n",
              "      fill: #D2E3FC;\n",
              "    }\n",
              "\n",
              "    [theme=dark] .colab-df-convert:hover {\n",
              "      background-color: #434B5C;\n",
              "      box-shadow: 0px 1px 3px 1px rgba(0, 0, 0, 0.15);\n",
              "      filter: drop-shadow(0px 1px 2px rgba(0, 0, 0, 0.3));\n",
              "      fill: #FFFFFF;\n",
              "    }\n",
              "  </style>\n",
              "\n",
              "    <script>\n",
              "      const buttonEl =\n",
              "        document.querySelector('#df-95c226a3-b899-4ef2-b30f-65c994f91038 button.colab-df-convert');\n",
              "      buttonEl.style.display =\n",
              "        google.colab.kernel.accessAllowed ? 'block' : 'none';\n",
              "\n",
              "      async function convertToInteractive(key) {\n",
              "        const element = document.querySelector('#df-95c226a3-b899-4ef2-b30f-65c994f91038');\n",
              "        const dataTable =\n",
              "          await google.colab.kernel.invokeFunction('convertToInteractive',\n",
              "                                                    [key], {});\n",
              "        if (!dataTable) return;\n",
              "\n",
              "        const docLinkHtml = 'Like what you see? Visit the ' +\n",
              "          '<a target=\"_blank\" href=https://colab.research.google.com/notebooks/data_table.ipynb>data table notebook</a>'\n",
              "          + ' to learn more about interactive tables.';\n",
              "        element.innerHTML = '';\n",
              "        dataTable['output_type'] = 'display_data';\n",
              "        await google.colab.output.renderOutput(dataTable, element);\n",
              "        const docLink = document.createElement('div');\n",
              "        docLink.innerHTML = docLinkHtml;\n",
              "        element.appendChild(docLink);\n",
              "      }\n",
              "    </script>\n",
              "  </div>\n",
              "\n",
              "\n",
              "    <div id=\"df-a13edf02-24be-47d0-ae96-f23cfb641020\">\n",
              "      <button class=\"colab-df-quickchart\" onclick=\"quickchart('df-a13edf02-24be-47d0-ae96-f23cfb641020')\"\n",
              "                title=\"Suggest charts\"\n",
              "                style=\"display:none;\">\n",
              "\n",
              "<svg xmlns=\"http://www.w3.org/2000/svg\" height=\"24px\"viewBox=\"0 0 24 24\"\n",
              "     width=\"24px\">\n",
              "    <g>\n",
              "        <path d=\"M19 3H5c-1.1 0-2 .9-2 2v14c0 1.1.9 2 2 2h14c1.1 0 2-.9 2-2V5c0-1.1-.9-2-2-2zM9 17H7v-7h2v7zm4 0h-2V7h2v10zm4 0h-2v-4h2v4z\"/>\n",
              "    </g>\n",
              "</svg>\n",
              "      </button>\n",
              "\n",
              "<style>\n",
              "  .colab-df-quickchart {\n",
              "      --bg-color: #E8F0FE;\n",
              "      --fill-color: #1967D2;\n",
              "      --hover-bg-color: #E2EBFA;\n",
              "      --hover-fill-color: #174EA6;\n",
              "      --disabled-fill-color: #AAA;\n",
              "      --disabled-bg-color: #DDD;\n",
              "  }\n",
              "\n",
              "  [theme=dark] .colab-df-quickchart {\n",
              "      --bg-color: #3B4455;\n",
              "      --fill-color: #D2E3FC;\n",
              "      --hover-bg-color: #434B5C;\n",
              "      --hover-fill-color: #FFFFFF;\n",
              "      --disabled-bg-color: #3B4455;\n",
              "      --disabled-fill-color: #666;\n",
              "  }\n",
              "\n",
              "  .colab-df-quickchart {\n",
              "    background-color: var(--bg-color);\n",
              "    border: none;\n",
              "    border-radius: 50%;\n",
              "    cursor: pointer;\n",
              "    display: none;\n",
              "    fill: var(--fill-color);\n",
              "    height: 32px;\n",
              "    padding: 0;\n",
              "    width: 32px;\n",
              "  }\n",
              "\n",
              "  .colab-df-quickchart:hover {\n",
              "    background-color: var(--hover-bg-color);\n",
              "    box-shadow: 0 1px 2px rgba(60, 64, 67, 0.3), 0 1px 3px 1px rgba(60, 64, 67, 0.15);\n",
              "    fill: var(--button-hover-fill-color);\n",
              "  }\n",
              "\n",
              "  .colab-df-quickchart-complete:disabled,\n",
              "  .colab-df-quickchart-complete:disabled:hover {\n",
              "    background-color: var(--disabled-bg-color);\n",
              "    fill: var(--disabled-fill-color);\n",
              "    box-shadow: none;\n",
              "  }\n",
              "\n",
              "  .colab-df-spinner {\n",
              "    border: 2px solid var(--fill-color);\n",
              "    border-color: transparent;\n",
              "    border-bottom-color: var(--fill-color);\n",
              "    animation:\n",
              "      spin 1s steps(1) infinite;\n",
              "  }\n",
              "\n",
              "  @keyframes spin {\n",
              "    0% {\n",
              "      border-color: transparent;\n",
              "      border-bottom-color: var(--fill-color);\n",
              "      border-left-color: var(--fill-color);\n",
              "    }\n",
              "    20% {\n",
              "      border-color: transparent;\n",
              "      border-left-color: var(--fill-color);\n",
              "      border-top-color: var(--fill-color);\n",
              "    }\n",
              "    30% {\n",
              "      border-color: transparent;\n",
              "      border-left-color: var(--fill-color);\n",
              "      border-top-color: var(--fill-color);\n",
              "      border-right-color: var(--fill-color);\n",
              "    }\n",
              "    40% {\n",
              "      border-color: transparent;\n",
              "      border-right-color: var(--fill-color);\n",
              "      border-top-color: var(--fill-color);\n",
              "    }\n",
              "    60% {\n",
              "      border-color: transparent;\n",
              "      border-right-color: var(--fill-color);\n",
              "    }\n",
              "    80% {\n",
              "      border-color: transparent;\n",
              "      border-right-color: var(--fill-color);\n",
              "      border-bottom-color: var(--fill-color);\n",
              "    }\n",
              "    90% {\n",
              "      border-color: transparent;\n",
              "      border-bottom-color: var(--fill-color);\n",
              "    }\n",
              "  }\n",
              "</style>\n",
              "\n",
              "      <script>\n",
              "        async function quickchart(key) {\n",
              "          const quickchartButtonEl =\n",
              "            document.querySelector('#' + key + ' button');\n",
              "          quickchartButtonEl.disabled = true;  // To prevent multiple clicks.\n",
              "          quickchartButtonEl.classList.add('colab-df-spinner');\n",
              "          try {\n",
              "            const charts = await google.colab.kernel.invokeFunction(\n",
              "                'suggestCharts', [key], {});\n",
              "          } catch (error) {\n",
              "            console.error('Error during call to suggestCharts:', error);\n",
              "          }\n",
              "          quickchartButtonEl.classList.remove('colab-df-spinner');\n",
              "          quickchartButtonEl.classList.add('colab-df-quickchart-complete');\n",
              "        }\n",
              "        (() => {\n",
              "          let quickchartButtonEl =\n",
              "            document.querySelector('#df-a13edf02-24be-47d0-ae96-f23cfb641020 button');\n",
              "          quickchartButtonEl.style.display =\n",
              "            google.colab.kernel.accessAllowed ? 'block' : 'none';\n",
              "        })();\n",
              "      </script>\n",
              "    </div>\n",
              "\n",
              "    </div>\n",
              "  </div>\n"
            ],
            "application/vnd.google.colaboratory.intrinsic+json": {
              "type": "dataframe",
              "summary": "{\n  \"name\": \"display(df\",\n  \"rows\": 5,\n  \"fields\": [\n    {\n      \"column\": \"Area\",\n      \"properties\": {\n        \"dtype\": \"number\",\n        \"std\": 0.8890556787963286,\n        \"min\": 13.84,\n        \"max\": 16.14,\n        \"num_unique_values\": 5,\n        \"samples\": [\n          14.88,\n          16.14,\n          14.29\n        ],\n        \"semantic_type\": \"\",\n        \"description\": \"\"\n      }\n    },\n    {\n      \"column\": \"Perimetro\",\n      \"properties\": {\n        \"dtype\": \"number\",\n        \"std\": 0.45861748767355154,\n        \"min\": 13.94,\n        \"max\": 14.99,\n        \"num_unique_values\": 5,\n        \"samples\": [\n          14.57,\n          14.99,\n          14.09\n        ],\n        \"semantic_type\": \"\",\n        \"description\": \"\"\n      }\n    },\n    {\n      \"column\": \"Compacidad\",\n      \"properties\": {\n        \"dtype\": \"number\",\n        \"std\": 0.014729392383937638,\n        \"min\": 0.871,\n        \"max\": 0.905,\n        \"num_unique_values\": 5,\n        \"samples\": [\n          0.8811,\n          0.9034,\n          0.905\n        ],\n        \"semantic_type\": \"\",\n        \"description\": \"\"\n      }\n    },\n    {\n      \"column\": \"LongNucleo\",\n      \"properties\": {\n        \"dtype\": \"number\",\n        \"std\": 0.20620741984710442,\n        \"min\": 5.291,\n        \"max\": 5.763,\n        \"num_unique_values\": 5,\n        \"samples\": [\n          5.554,\n          5.658,\n          5.291\n        ],\n        \"semantic_type\": \"\",\n        \"description\": \"\"\n      }\n    },\n    {\n      \"column\": \"AnchoNucleo\",\n      \"properties\": {\n        \"dtype\": \"number\",\n        \"std\": 0.10210435837906226,\n        \"min\": 3.312,\n        \"max\": 3.562,\n        \"num_unique_values\": 5,\n        \"samples\": [\n          3.333,\n          3.562,\n          3.337\n        ],\n        \"semantic_type\": \"\",\n        \"description\": \"\"\n      }\n    },\n    {\n      \"column\": \"Asimetria\",\n      \"properties\": {\n        \"dtype\": \"number\",\n        \"std\": 0.6972680976496773,\n        \"min\": 1.018,\n        \"max\": 2.699,\n        \"num_unique_values\": 5,\n        \"samples\": [\n          1.018,\n          1.355,\n          2.699\n        ],\n        \"semantic_type\": \"\",\n        \"description\": \"\"\n      }\n    },\n    {\n      \"column\": \"LongSurco\",\n      \"properties\": {\n        \"dtype\": \"number\",\n        \"std\": 0.19335123480340116,\n        \"min\": 4.805,\n        \"max\": 5.22,\n        \"num_unique_values\": 5,\n        \"samples\": [\n          4.956,\n          5.175,\n          4.825\n        ],\n        \"semantic_type\": \"\",\n        \"description\": \"\"\n      }\n    },\n    {\n      \"column\": \"Clase\",\n      \"properties\": {\n        \"dtype\": \"category\",\n        \"num_unique_values\": 1,\n        \"samples\": [\n          \"Tipo1\"\n        ],\n        \"semantic_type\": \"\",\n        \"description\": \"\"\n      }\n    }\n  ]\n}"
            }
          },
          "metadata": {}
        }
      ]
    },
    {
      "cell_type": "markdown",
      "source": [
        "## Prepare and normalize dataset"
      ],
      "metadata": {
        "id": "Yv5YjnhdA2h_"
      }
    },
    {
      "cell_type": "code",
      "metadata": {
        "colab": {
          "base_uri": "https://localhost:8080/",
          "height": 277
        },
        "id": "76b3fd4b",
        "outputId": "946e7d01-02e2-472f-b9ce-b69dec1a2ebd"
      },
      "source": [
        "from sklearn.preprocessing import StandardScaler\n",
        "from sklearn.model_selection import train_test_split\n",
        "import numpy as np\n",
        "\n",
        "# Separate features (X) and target variable (y)\n",
        "X = df.drop('Clase', axis=1)\n",
        "y = df['Clase']\n",
        "\n",
        "# Since a perceptron is a binary classifier, we need to train one perceptron for each class.\n",
        "# Let's start by creating a binary target for 'Tipo1' vs others.\n",
        "y_binary_tipo1 = np.where(y == 'Tipo1', 1, 0)\n",
        "\n",
        "# Normalize the features\n",
        "scaler = StandardScaler()\n",
        "X_scaled = scaler.fit_transform(X)\n",
        "\n",
        "# Display the shapes of the preprocessed data\n",
        "print(\"Shape of features (X_scaled):\", X_scaled.shape)\n",
        "print(\"Shape of target (y_binary_tipo1):\", y_binary_tipo1.shape)\n",
        "\n",
        "# Display the first few rows of the dataframe\n",
        "display(X_scaled)"
      ],
      "execution_count": 4,
      "outputs": [
        {
          "output_type": "stream",
          "name": "stdout",
          "text": [
            "Shape of features (X_scaled): (210, 7)\n",
            "Shape of target (y_binary_tipo1): (210,)\n"
          ]
        },
        {
          "output_type": "display_data",
          "data": {
            "text/plain": [
              "array([[ 1.42097769e-01,  2.15462437e-01,  6.06017918e-05, ...,\n",
              "         1.41701823e-01, -9.86151745e-01, -3.83577423e-01],\n",
              "       [ 1.11880257e-02,  8.22375713e-03,  4.28515270e-01, ...,\n",
              "         1.97432229e-01, -1.78816620e+00, -9.22013487e-01],\n",
              "       [-1.92066576e-01, -3.60200562e-01,  1.44238325e+00, ...,\n",
              "         2.08047544e-01, -6.67479334e-01, -1.18919199e+00],\n",
              "       ...,\n",
              "       [-5.67570840e-01, -6.90247348e-01,  7.33948301e-01, ...,\n",
              "        -7.06044846e-02,  3.07658816e+00, -7.18060432e-01],\n",
              "       [-1.03608992e+00, -1.03564515e+00, -8.01701104e-01, ...,\n",
              "        -1.12152071e+00, -6.81351965e-02, -7.42534799e-01],\n",
              "       [-8.77620233e-01, -9.35863561e-01, -1.10234659e-01, ...,\n",
              "        -7.55292327e-01,  1.29122264e+00, -7.03783718e-01]])"
            ]
          },
          "metadata": {}
        }
      ]
    },
    {
      "cell_type": "markdown",
      "source": [
        "## Train an test perceptron"
      ],
      "metadata": {
        "id": "0GvJ1rWVBCgh"
      }
    },
    {
      "cell_type": "code",
      "metadata": {
        "colab": {
          "base_uri": "https://localhost:8080/"
        },
        "id": "226e627a",
        "outputId": "e02d0b8a-e1be-485f-b5bd-2273b8bfa61c"
      },
      "source": [
        "from sklearn.linear_model import Perceptron\n",
        "from sklearn.metrics import accuracy_score\n",
        "import numpy as np\n",
        "\n",
        "# Get unique classes\n",
        "unique_classes = df['Clase'].unique()\n",
        "\n",
        "# Iterate through each class\n",
        "for class_name in unique_classes:\n",
        "    print(f\"Training Perceptron for class: {class_name}\")\n",
        "\n",
        "    # Create binary target for the current class\n",
        "    y_binary = np.where(y == class_name, 1, 0)\n",
        "\n",
        "    # Initialize and train the Perceptron model\n",
        "    perceptron = Perceptron(eta0=0.05, max_iter=200, random_state=42)\n",
        "    perceptron.fit(X_scaled, y_binary)\n",
        "\n",
        "    # Predict on the training data\n",
        "    y_pred = perceptron.predict(X_scaled)\n",
        "\n",
        "    # Calculate accuracy\n",
        "    accuracy = accuracy_score(y_binary, y_pred)\n",
        "\n",
        "    print(f\"Accuracy for {class_name} classification: {accuracy:.4f}\")\n",
        "    print(\"-\" * 30)"
      ],
      "execution_count": 5,
      "outputs": [
        {
          "output_type": "stream",
          "name": "stdout",
          "text": [
            "Training Perceptron for class: Tipo1\n",
            "Accuracy for Tipo1 classification: 0.9238\n",
            "------------------------------\n",
            "Training Perceptron for class: Tipo2\n",
            "Accuracy for Tipo2 classification: 0.9905\n",
            "------------------------------\n",
            "Training Perceptron for class: Tipo3\n",
            "Accuracy for Tipo3 classification: 0.9667\n",
            "------------------------------\n"
          ]
        }
      ]
    },
    {
      "cell_type": "code",
      "metadata": {
        "colab": {
          "base_uri": "https://localhost:8080/",
          "height": 564
        },
        "id": "74e2f966",
        "outputId": "2ec6a642-aa3d-419c-c5d5-4248b8637890"
      },
      "source": [
        "import matplotlib.pyplot as plt\n",
        "import seaborn as sns\n",
        "\n",
        "# Get the counts of each class\n",
        "class_counts = df['Clase'].value_counts()\n",
        "\n",
        "# Create a bar plot of the class distribution\n",
        "plt.figure(figsize=(8, 6))\n",
        "sns.barplot(x=class_counts.index, y=class_counts.values)\n",
        "plt.title('Distribution of Seed Classes')\n",
        "plt.xlabel('Seed Class')\n",
        "plt.ylabel('Count')\n",
        "plt.show()"
      ],
      "execution_count": 6,
      "outputs": [
        {
          "output_type": "display_data",
          "data": {
            "text/plain": [
              "<Figure size 800x600 with 1 Axes>"
            ],
            "image/png": "[encoded data removed]"
          },
          "metadata": {}
        }
      ]
    }
  ]
}